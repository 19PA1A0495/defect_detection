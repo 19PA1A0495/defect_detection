{
  "nbformat": 4,
  "nbformat_minor": 0,
  "metadata": {
    "colab": {
      "name": "dd.ipynb",
      "provenance": [],
      "mount_file_id": "1Nqplflvwh7NljTCISLWDRAlpN79urgfd",
      "authorship_tag": "ABX9TyNpej85TI7pZBSBOenbQ2yK",
      "include_colab_link": true
    },
    "kernelspec": {
      "name": "python3",
      "display_name": "Python 3"
    },
    "language_info": {
      "name": "python"
    }
  },
  "cells": [
    {
      "cell_type": "markdown",
      "metadata": {
        "id": "view-in-github",
        "colab_type": "text"
      },
      "source": [
        "<a href=\"https://colab.research.google.com/github/19PA1A0495/defect_detection/blob/main/dd.ipynb\" target=\"_parent\"><img src=\"https://colab.research.google.com/assets/colab-badge.svg\" alt=\"Open In Colab\"/></a>"
      ]
    },
    {
      "cell_type": "code",
      "source": [
        "import tensorflow as tf\n",
        "import numpy as np\n",
        "from tensorflow.keras.preprocessing.image import ImageDataGenerator\n",
        "from tensorflow.keras.models import Sequential\n",
        "from tensorflow.keras.layers import Dense, Conv2D, Flatten, Dropout, MaxPooling2D\n",
        "import matplotlib.pyplot as plt\n",
        "from tensorflow.keras import layers\n",
        "import matplotlib.image as mpimg\n",
        "import os"
      ],
      "metadata": {
        "id": "hRNqLBV5zhNW"
      },
      "execution_count": 3,
      "outputs": []
    },
    {
      "cell_type": "code",
      "source": [
        "import pathlib\n",
        "dataset_path = \"/content/drive/MyDrive/NEU Metal Surface Defects Data\"\n",
        "data_dir = pathlib.Path(dataset_path)\n"
      ],
      "metadata": {
        "id": "ltGYHZK7zr_r"
      },
      "execution_count": 13,
      "outputs": []
    },
    {
      "cell_type": "code",
      "source": [
        "train_dir = '/content/drive/MyDrive/NEU Metal Surface Defects Data/train'\n",
        "val_dir = '/content/drive/MyDrive/NEU Metal Surface Defects Data/valid'\n",
        "test_dir='/content/drive/MyDrive/NEU Metal Surface Defects Data/test'"
      ],
      "metadata": {
        "id": "fsOGFu8e2O1k"
      },
      "execution_count": 14,
      "outputs": []
    },
    {
      "cell_type": "code",
      "source": [
        "batch_size=30\n",
        "img_height=200\n",
        "img_width=200"
      ],
      "metadata": {
        "id": "wpabIZc-0A3R"
      },
      "execution_count": 10,
      "outputs": []
    },
    {
      "cell_type": "code",
      "source": [
        "\n",
        "image_gen_train = ImageDataGenerator(\n",
        "                    rescale=1./255,\n",
        "                    rotation_range=45,\n",
        "                    width_shift_range=.15,\n",
        "                    height_shift_range=.15,\n",
        "                    horizontal_flip=True,\n",
        "                    zoom_range=0.5\n",
        "                    )\n",
        "\n",
        "\n",
        "train_data_gen = image_gen_train.flow_from_directory(\n",
        "                                                batch_size=batch_size,\n",
        "                                                directory=train_dir,\n",
        "                                                shuffle=True, color_mode='grayscale',\n",
        "                                                target_size=(img_width,img_height),\n",
        "                                                class_mode='sparse'\n",
        "                                                )"
      ],
      "metadata": {
        "colab": {
          "base_uri": "https://localhost:8080/"
        },
        "id": "9i0_KXU-0fAR",
        "outputId": "fe188e84-92f1-491b-e807-4876a2e5147c"
      },
      "execution_count": 11,
      "outputs": [
        {
          "output_type": "stream",
          "name": "stdout",
          "text": [
            "Found 1650 images belonging to 6 classes.\n"
          ]
        }
      ]
    },
    {
      "cell_type": "code",
      "source": [
        "image_gen_val = ImageDataGenerator(rescale=1./255)\n",
        "\n",
        "val_data_gen = image_gen_val.flow_from_directory(batch_size=batch_size,\n",
        "                                                 directory=val_dir,\n",
        "                                                 target_size=(img_width,img_height),  color_mode='grayscale',\n",
        "                                                 class_mode='sparse')"
      ],
      "metadata": {
        "colab": {
          "base_uri": "https://localhost:8080/"
        },
        "id": "FDQ2A2_E0pFT",
        "outputId": "617e4e6f-98ad-463f-de0b-c6d0cb51b6ae"
      },
      "execution_count": 15,
      "outputs": [
        {
          "output_type": "stream",
          "name": "stdout",
          "text": [
            "Found 72 images belonging to 6 classes.\n"
          ]
        }
      ]
    },
    {
      "cell_type": "code",
      "source": [
        "model = tf.keras.Sequential()\n",
        "\n",
        "model.add(Conv2D(16, 3, padding='same', activation='relu', input_shape=(img_width,img_height, 1)))\n",
        "model.add(MaxPooling2D(pool_size=(2, 2)))\n",
        "\n",
        "model.add(Conv2D(32, 3, padding='same', activation='relu'))\n",
        "model.add(MaxPooling2D(pool_size=(2, 2)))\n",
        "\n",
        "model.add(Conv2D(64, 3, padding='same', activation='relu'))\n",
        "model.add(MaxPooling2D(pool_size=(2, 2)))\n",
        "\n",
        "model.add(Flatten())\n",
        "model.add(Dropout(0.2))\n",
        "model.add(Dense(512, activation='relu'))\n",
        "\n",
        "model.add(Dropout(0.2))\n",
        "model.add(Dense(6))"
      ],
      "metadata": {
        "id": "VdMB7bEh2nmI"
      },
      "execution_count": 16,
      "outputs": []
    },
    {
      "cell_type": "code",
      "source": [
        "model.compile(optimizer='adam',\n",
        "              loss=tf.keras.losses.SparseCategoricalCrossentropy(from_logits=True),\n",
        "              metrics=['accuracy'])"
      ],
      "metadata": {
        "id": "KcKzhpup2sYD"
      },
      "execution_count": 17,
      "outputs": []
    },
    {
      "cell_type": "code",
      "source": [
        "epochs = 20\n",
        "\n",
        "history = model.fit_generator(\n",
        "    train_data_gen,\n",
        "    steps_per_epoch=int(np.ceil(train_data_gen.n / float(batch_size))),\n",
        "    epochs=epochs,\n",
        "    validation_data=val_data_gen,\n",
        "    validation_steps=int(np.ceil(val_data_gen.n / float(batch_size)))\n",
        ") "
      ],
      "metadata": {
        "colab": {
          "base_uri": "https://localhost:8080/"
        },
        "id": "QQb5U1qe20Ok",
        "outputId": "dead5bd7-0ef7-4d1e-aa06-bbe4d90c2184"
      },
      "execution_count": 18,
      "outputs": [
        {
          "output_type": "stream",
          "name": "stderr",
          "text": [
            "/usr/local/lib/python3.7/dist-packages/ipykernel_launcher.py:8: UserWarning: `Model.fit_generator` is deprecated and will be removed in a future version. Please use `Model.fit`, which supports generators.\n",
            "  \n"
          ]
        },
        {
          "output_type": "stream",
          "name": "stdout",
          "text": [
            "Epoch 1/20\n",
            "55/55 [==============================] - 368s 7s/step - loss: 1.5095 - accuracy: 0.3594 - val_loss: 1.2526 - val_accuracy: 0.3333\n",
            "Epoch 2/20\n",
            "55/55 [==============================] - 72s 1s/step - loss: 0.8613 - accuracy: 0.6745 - val_loss: 0.6631 - val_accuracy: 0.7361\n",
            "Epoch 3/20\n",
            "55/55 [==============================] - 72s 1s/step - loss: 0.6146 - accuracy: 0.7721 - val_loss: 0.2477 - val_accuracy: 0.9583\n",
            "Epoch 4/20\n",
            "55/55 [==============================] - 72s 1s/step - loss: 0.4992 - accuracy: 0.8145 - val_loss: 0.5542 - val_accuracy: 0.8194\n",
            "Epoch 5/20\n",
            "55/55 [==============================] - 72s 1s/step - loss: 0.4472 - accuracy: 0.8352 - val_loss: 0.3189 - val_accuracy: 0.8750\n",
            "Epoch 6/20\n",
            "55/55 [==============================] - 72s 1s/step - loss: 0.3994 - accuracy: 0.8582 - val_loss: 0.2891 - val_accuracy: 0.8889\n",
            "Epoch 7/20\n",
            "55/55 [==============================] - 71s 1s/step - loss: 0.3641 - accuracy: 0.8697 - val_loss: 0.2034 - val_accuracy: 0.9583\n",
            "Epoch 8/20\n",
            "55/55 [==============================] - 71s 1s/step - loss: 0.3584 - accuracy: 0.8673 - val_loss: 0.6438 - val_accuracy: 0.8056\n",
            "Epoch 9/20\n",
            "55/55 [==============================] - 71s 1s/step - loss: 0.3449 - accuracy: 0.8800 - val_loss: 0.4064 - val_accuracy: 0.8889\n",
            "Epoch 10/20\n",
            "55/55 [==============================] - 71s 1s/step - loss: 0.3148 - accuracy: 0.8909 - val_loss: 0.0768 - val_accuracy: 0.9861\n",
            "Epoch 11/20\n",
            "55/55 [==============================] - 72s 1s/step - loss: 0.2358 - accuracy: 0.9133 - val_loss: 0.1270 - val_accuracy: 0.9722\n",
            "Epoch 12/20\n",
            "55/55 [==============================] - 72s 1s/step - loss: 0.3058 - accuracy: 0.8800 - val_loss: 0.1030 - val_accuracy: 0.9861\n",
            "Epoch 13/20\n",
            "55/55 [==============================] - 72s 1s/step - loss: 0.2508 - accuracy: 0.9085 - val_loss: 0.0957 - val_accuracy: 0.9861\n",
            "Epoch 14/20\n",
            "55/55 [==============================] - 71s 1s/step - loss: 0.1979 - accuracy: 0.9327 - val_loss: 0.0587 - val_accuracy: 0.9861\n",
            "Epoch 15/20\n",
            "55/55 [==============================] - 71s 1s/step - loss: 0.2263 - accuracy: 0.9236 - val_loss: 0.0537 - val_accuracy: 0.9861\n",
            "Epoch 16/20\n",
            "55/55 [==============================] - 71s 1s/step - loss: 0.2202 - accuracy: 0.9182 - val_loss: 0.1219 - val_accuracy: 0.9583\n",
            "Epoch 17/20\n",
            "55/55 [==============================] - 71s 1s/step - loss: 0.2631 - accuracy: 0.9061 - val_loss: 0.5460 - val_accuracy: 0.8194\n",
            "Epoch 18/20\n",
            "55/55 [==============================] - 71s 1s/step - loss: 0.2508 - accuracy: 0.9115 - val_loss: 0.3613 - val_accuracy: 0.8889\n",
            "Epoch 19/20\n",
            "55/55 [==============================] - 71s 1s/step - loss: 0.2233 - accuracy: 0.9206 - val_loss: 0.2207 - val_accuracy: 0.9306\n",
            "Epoch 20/20\n",
            "55/55 [==============================] - 71s 1s/step - loss: 0.1822 - accuracy: 0.9370 - val_loss: 0.1349 - val_accuracy: 0.9722\n"
          ]
        }
      ]
    },
    {
      "cell_type": "code",
      "source": [
        "\n",
        "acc = history.history['accuracy']\n",
        "val_acc = history.history['val_accuracy']\n",
        "\n",
        "loss = history.history['loss']\n",
        "val_loss = history.history['val_loss']\n",
        "\n",
        "epochs_range = range(epochs)\n",
        "\n",
        "plt.plot(epochs_range, acc, label='Training Accuracy')\n",
        "plt.plot(epochs_range, val_acc, label='Validation Accuracy')\n",
        "plt.legend(loc='lower right')\n",
        "plt.title('Training and Validation Accuracy')"
      ],
      "metadata": {
        "colab": {
          "base_uri": "https://localhost:8080/",
          "height": 298
        },
        "id": "uB5YHqno-f6T",
        "outputId": "6d32aa86-b812-4617-a6cf-aa0ffa0f0a43"
      },
      "execution_count": 19,
      "outputs": [
        {
          "output_type": "execute_result",
          "data": {
            "text/plain": [
              "Text(0.5, 1.0, 'Training and Validation Accuracy')"
            ]
          },
          "metadata": {},
          "execution_count": 19
        },
        {
          "output_type": "display_data",
          "data": {
            "image/png": "[encoded data removed]",
            "text/plain": [
              "<Figure size 432x288 with 1 Axes>"
            ]
          },
          "metadata": {
            "needs_background": "light"
          }
        }
      ]
    },
    {
      "cell_type": "code",
      "source": [
        "plt.plot(epochs_range, loss, label='Training Loss')\n",
        "plt.plot(epochs_range, val_loss, label='Validation Loss')\n",
        "plt.legend(loc='upper right')\n",
        "plt.title('Training and Validation Loss')\n",
        "plt.show()"
      ],
      "metadata": {
        "colab": {
          "base_uri": "https://localhost:8080/",
          "height": 281
        },
        "id": "EV6_GPa--lCy",
        "outputId": "76a64de0-664d-4061-dfe1-1f5d24de4546"
      },
      "execution_count": 20,
      "outputs": [
        {
          "output_type": "display_data",
          "data": {
            "image/png": "[encoded data removed]",
            "text/plain": [
              "<Figure size 432x288 with 1 Axes>"
            ]
          },
          "metadata": {
            "needs_background": "light"
          }
        }
      ]
    }
  ]
}